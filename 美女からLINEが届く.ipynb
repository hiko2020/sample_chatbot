{
 "cells": [
  {
   "cell_type": "code",
   "execution_count": 3,
   "id": "a5db62cd",
   "metadata": {},
   "outputs": [
    {
     "name": "stdout",
     "output_type": "stream",
     "text": [
      "Requirement already satisfied: line-bot-sdk in /opt/anaconda3/lib/python3.8/site-packages (1.20.0)\n",
      "Requirement already satisfied: future in /opt/anaconda3/lib/python3.8/site-packages (from line-bot-sdk) (0.18.2)\n",
      "Requirement already satisfied: requests>=2.0 in /opt/anaconda3/lib/python3.8/site-packages (from line-bot-sdk) (2.25.1)\n",
      "Requirement already satisfied: idna<3,>=2.5 in /opt/anaconda3/lib/python3.8/site-packages (from requests>=2.0->line-bot-sdk) (2.10)\n",
      "Requirement already satisfied: urllib3<1.27,>=1.21.1 in /opt/anaconda3/lib/python3.8/site-packages (from requests>=2.0->line-bot-sdk) (1.26.4)\n",
      "Requirement already satisfied: chardet<5,>=3.0.2 in /opt/anaconda3/lib/python3.8/site-packages (from requests>=2.0->line-bot-sdk) (4.0.0)\n",
      "Requirement already satisfied: certifi>=2017.4.17 in /opt/anaconda3/lib/python3.8/site-packages (from requests>=2.0->line-bot-sdk) (2020.12.5)\n"
     ]
    }
   ],
   "source": [
    "!pip install line-bot-sdk"
   ]
  },
  {
   "cell_type": "code",
   "execution_count": 3,
   "id": "0f69afa7",
   "metadata": {},
   "outputs": [],
   "source": [
    "import json"
   ]
  },
  {
   "cell_type": "code",
   "execution_count": 4,
   "id": "17e22d46-ff33-406e-a140-41a3c5a09f70",
   "metadata": {},
   "outputs": [],
   "source": [
    "file = open('info.json', 'r')\n",
    "info = json.load(file)"
   ]
  },
  {
   "cell_type": "code",
   "execution_count": 5,
   "id": "8a9b2887-ffaa-48bc-84c6-a5bf03b9a836",
   "metadata": {},
   "outputs": [
    {
     "data": {
      "text/plain": [
       "'AMenypQP8Giv/rFVQk0WBoMvSD5VWG3H//vgrvaQiZEdW1RlMTgVJwBPX7uYT0jwmxk36lWbIBw2yKNaB3MoIGurRAeA1Fhep8fw+bgyAYFi0rmVfzWvpNkcvkpxRzFoZiCsSIEXR3nV4peBRD6RewdB04t89/1O/w1cDnyilFU='"
      ]
     },
     "execution_count": 5,
     "metadata": {},
     "output_type": "execute_result"
    }
   ],
   "source": [
    "info['CHANNEL_ACCESS_TOKEN']"
   ]
  },
  {
   "cell_type": "code",
   "execution_count": 6,
   "id": "4bd588a4-2b7b-4332-bee7-0e940f546c76",
   "metadata": {},
   "outputs": [],
   "source": [
    "from linebot import LineBotApi"
   ]
  },
  {
   "cell_type": "code",
   "execution_count": 7,
   "id": "d01b1431-69ba-4971-8274-40dcceb3fbdb",
   "metadata": {},
   "outputs": [],
   "source": [
    "from linebot.models import TextSendMessage"
   ]
  },
  {
   "cell_type": "code",
   "execution_count": 14,
   "id": "47c79be2-2f68-461d-81cc-36a2070f5751",
   "metadata": {},
   "outputs": [],
   "source": [
    "CHANNEL_ACCESS_TOKEN = info['CHANNEL_ACCESS_TOKEN']\n",
    "line_bot_api = LineBotApi(CHANNEL_ACCESS_TOKEN)"
   ]
  },
  {
   "cell_type": "code",
   "execution_count": 17,
   "id": "7d4156f9-98e1-4009-8a32-59c18e53eff4",
   "metadata": {},
   "outputs": [],
   "source": [
    "def main():\n",
    "    USER_ID = info['USER_ID']\n",
    "    messages= TextSendMessage(text=\"おはよう〜　\\n 朝だよ、起きてね💖\")\n",
    "    line_bot_api.push_message(USER_ID, messages=messages)\n",
    "\n",
    "if __name__ == \"__main__\":\n",
    "    main()"
   ]
  },
  {
   "cell_type": "code",
   "execution_count": null,
   "id": "4c7ba281-e50d-4473-bbef-ea175c7e28ff",
   "metadata": {},
   "outputs": [],
   "source": []
  }
 ],
 "metadata": {
  "kernelspec": {
   "display_name": "Python 3",
   "language": "python",
   "name": "python3"
  },
  "language_info": {
   "codemirror_mode": {
    "name": "ipython",
    "version": 3
   },
   "file_extension": ".py",
   "mimetype": "text/x-python",
   "name": "python",
   "nbconvert_exporter": "python",
   "pygments_lexer": "ipython3",
   "version": "3.8.8"
  }
 },
 "nbformat": 4,
 "nbformat_minor": 5
}
